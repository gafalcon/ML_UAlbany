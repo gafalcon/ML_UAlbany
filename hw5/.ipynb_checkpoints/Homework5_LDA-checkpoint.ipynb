{
 "cells": [
  {
   "cell_type": "code",
   "execution_count": 2,
   "metadata": {},
   "outputs": [],
   "source": [
    "import numpy as np\n",
    "import matplotlib.pyplot as plt"
   ]
  },
  {
   "cell_type": "markdown",
   "metadata": {},
   "source": [
    "# Load arrays "
   ]
  },
  {
   "cell_type": "code",
   "execution_count": 3,
   "metadata": {},
   "outputs": [],
   "source": [
    "Xp = np.array([[ 4, 2, 2, 3, 4, 6, 3, 8],\n",
    "               [ 1, 4, 3, 6, 4, 2, 2, 3],\n",
    "               [ 0, 1, 1, 0,-1, 0, 1, 0]])\n",
    "Xn = np.array([[ 9, 6, 9, 8, 10],\n",
    "               [10, 8, 5, 7,  8],\n",
    "               [ 1, 0, 0, 1, -1]])\n",
    "X = np.concatenate((Xp, Xn), axis=1)\n",
    "\n",
    "n_p = Xp.shape[1]\n",
    "n_n = Xn.shape[1]\n",
    "n = X.shape[1]"
   ]
  },
  {
   "cell_type": "markdown",
   "metadata": {},
   "source": [
    "# Calculate means"
   ]
  },
  {
   "cell_type": "code",
   "execution_count": 4,
   "metadata": {},
   "outputs": [],
   "source": [
    "mu_p = Xp.mean(axis=1).reshape((3,1))\n",
    "mu_n = Xn.mean(axis=1).reshape((3,1))\n",
    "mu = X.mean(axis=1).reshape((3,1))"
   ]
  },
  {
   "cell_type": "code",
   "execution_count": 5,
   "metadata": {},
   "outputs": [
    {
     "data": {
      "text/plain": [
       "array([[4.   ],\n",
       "       [3.125],\n",
       "       [0.25 ]])"
      ]
     },
     "execution_count": 5,
     "metadata": {},
     "output_type": "execute_result"
    }
   ],
   "source": [
    "mu_p"
   ]
  },
  {
   "cell_type": "code",
   "execution_count": 6,
   "metadata": {},
   "outputs": [
    {
     "data": {
      "text/plain": [
       "array([[8.4],\n",
       "       [7.6],\n",
       "       [0.2]])"
      ]
     },
     "execution_count": 6,
     "metadata": {},
     "output_type": "execute_result"
    }
   ],
   "source": [
    "mu_n"
   ]
  },
  {
   "cell_type": "markdown",
   "metadata": {},
   "source": [
    "# Calculate Covariances"
   ]
  },
  {
   "cell_type": "code",
   "execution_count": 7,
   "metadata": {},
   "outputs": [],
   "source": [
    "Xp_centered = Xp - mu_p #centered matrix\n",
    "Xn_centered = Xn - mu_n\n",
    "X_centered = X - mu"
   ]
  },
  {
   "cell_type": "code",
   "execution_count": 8,
   "metadata": {},
   "outputs": [],
   "source": [
    "Sp = Xp_centered @ Xp_centered.T\n",
    "Sn = Xn_centered @ Xn_centered.T"
   ]
  },
  {
   "cell_type": "code",
   "execution_count": 9,
   "metadata": {},
   "outputs": [
    {
     "data": {
      "text/plain": [
       "array([[30.   , -6.   , -5.   ],\n",
       "       [-6.   , 16.875, -1.25 ],\n",
       "       [-5.   , -1.25 ,  3.5  ]])"
      ]
     },
     "execution_count": 9,
     "metadata": {},
     "output_type": "execute_result"
    }
   ],
   "source": [
    "Sp"
   ]
  },
  {
   "cell_type": "code",
   "execution_count": 10,
   "metadata": {},
   "outputs": [
    {
     "data": {
      "text/plain": [
       "array([[ 9.2, -0.2, -1.4],\n",
       "       [-0.2, 13.2,  1.4],\n",
       "       [-1.4,  1.4,  2.8]])"
      ]
     },
     "execution_count": 10,
     "metadata": {},
     "output_type": "execute_result"
    }
   ],
   "source": [
    "Sn"
   ]
  },
  {
   "cell_type": "markdown",
   "metadata": {},
   "source": [
    "# Within Class scaterring Sw"
   ]
  },
  {
   "cell_type": "code",
   "execution_count": 11,
   "metadata": {},
   "outputs": [],
   "source": [
    "Sw = (n_p/n)*Sp + (n_n/n)*Sn"
   ]
  },
  {
   "cell_type": "code",
   "execution_count": 12,
   "metadata": {},
   "outputs": [
    {
     "data": {
      "text/plain": [
       "array([[22.        , -3.76923077, -3.61538462],\n",
       "       [-3.76923077, 15.46153846, -0.23076923],\n",
       "       [-3.61538462, -0.23076923,  3.23076923]])"
      ]
     },
     "execution_count": 12,
     "metadata": {},
     "output_type": "execute_result"
    }
   ],
   "source": [
    "Sw"
   ]
  },
  {
   "cell_type": "code",
   "execution_count": 13,
   "metadata": {},
   "outputs": [
    {
     "data": {
      "text/plain": [
       "3"
      ]
     },
     "execution_count": 13,
     "metadata": {},
     "output_type": "execute_result"
    }
   ],
   "source": [
    "np.linalg.matrix_rank(Sw)"
   ]
  },
  {
   "cell_type": "markdown",
   "metadata": {},
   "source": [
    "# Between Class Scattering Sb"
   ]
  },
  {
   "cell_type": "code",
   "execution_count": 14,
   "metadata": {},
   "outputs": [],
   "source": [
    "mu_diff = mu_p - mu_n\n",
    "Sb = ((n_p*n_n)/(n**2))*(mu_diff @ mu_diff.T)"
   ]
  },
  {
   "cell_type": "code",
   "execution_count": 15,
   "metadata": {},
   "outputs": [
    {
     "data": {
      "text/plain": [
       "array([[ 4.58224852e+00,  4.66035503e+00, -5.20710059e-02],\n",
       "       [ 4.66035503e+00,  4.73979290e+00, -5.29585799e-02],\n",
       "       [-5.20710059e-02, -5.29585799e-02,  5.91715976e-04]])"
      ]
     },
     "execution_count": 15,
     "metadata": {},
     "output_type": "execute_result"
    }
   ],
   "source": [
    "Sb"
   ]
  },
  {
   "cell_type": "code",
   "execution_count": 16,
   "metadata": {},
   "outputs": [
    {
     "data": {
      "text/plain": [
       "1"
      ]
     },
     "execution_count": 16,
     "metadata": {},
     "output_type": "execute_result"
    }
   ],
   "source": [
    "np.linalg.matrix_rank(Sb)"
   ]
  },
  {
   "cell_type": "markdown",
   "metadata": {},
   "source": [
    "# Eigenvalue decomposition"
   ]
  },
  {
   "cell_type": "code",
   "execution_count": 17,
   "metadata": {},
   "outputs": [],
   "source": [
    "eigenvals,eigenvecs = np.linalg.eig((np.linalg.inv(Sw) @ Sb)) #compute eigenvalues and eigenvectors"
   ]
  },
  {
   "cell_type": "code",
   "execution_count": 18,
   "metadata": {},
   "outputs": [
    {
     "data": {
      "text/plain": [
       "array([ 7.31673909e-01, -4.04357097e-17,  2.13121169e-18])"
      ]
     },
     "execution_count": 18,
     "metadata": {},
     "output_type": "execute_result"
    }
   ],
   "source": [
    "eigenvals"
   ]
  },
  {
   "cell_type": "code",
   "execution_count": 19,
   "metadata": {},
   "outputs": [
    {
     "data": {
      "text/plain": [
       "array([[ 0.52335927, -0.35928868,  0.03472196],\n",
       "       [ 0.60130052,  0.36287364, -0.02297653],\n",
       "       [ 0.60376548,  0.8597874 ,  0.99913286]])"
      ]
     },
     "execution_count": 19,
     "metadata": {},
     "output_type": "execute_result"
    }
   ],
   "source": [
    "eigenvecs"
   ]
  },
  {
   "cell_type": "code",
   "execution_count": 20,
   "metadata": {},
   "outputs": [],
   "source": [
    "lda_projection = eigenvecs[:, np.argsort(eigenvals)[-1:]] #eigenvector of largest eigenval"
   ]
  },
  {
   "cell_type": "code",
   "execution_count": 21,
   "metadata": {},
   "outputs": [
    {
     "data": {
      "text/plain": [
       "array([[0.52335927],\n",
       "       [0.60130052],\n",
       "       [0.60376548]])"
      ]
     },
     "execution_count": 21,
     "metadata": {},
     "output_type": "execute_result"
    }
   ],
   "source": [
    "lda_projection"
   ]
  },
  {
   "cell_type": "markdown",
   "metadata": {},
   "source": [
    "# mybLDA_train"
   ]
  },
  {
   "cell_type": "code",
   "execution_count": 22,
   "metadata": {},
   "outputs": [],
   "source": [
    "def mybLDA_train(Xp, Xn):\n",
    "    X = np.concatenate((Xp, Xn), axis=1)\n",
    "    n_p = Xp.shape[1]\n",
    "    n_n = Xn.shape[1]\n",
    "    n = X.shape[1]\n",
    "    #means\n",
    "    mu_p = Xp.mean(axis=1).reshape((3,1))\n",
    "    mu_n = Xn.mean(axis=1).reshape((3,1))\n",
    "    mu = X.mean(axis=1).reshape((3,1))\n",
    "    Xp_centered = Xp - mu_p #centered matrix\n",
    "    Xn_centered = Xn - mu_n\n",
    "    X_centered = X - mu\n",
    "    #Covariances\n",
    "    Sp = Xp_centered @ Xp_centered.T\n",
    "    Sn = Xn_centered @ Xn_centered.T\n",
    "    #Class scatterings\n",
    "    Sw = (n_p/n)*Sp + (n_n/n)*Sn\n",
    "    mu_diff = mu_p - mu_n\n",
    "    Sb = ((n_p*n_n)/(n**2))*(mu_diff @ mu_diff.T)\n",
    "    eigenvals,eigenvecs = np.linalg.eig((np.linalg.inv(Sw) @ Sb)) #compute eigenvalues and eigenvectors\n",
    "    return eigenvecs[:, np.argsort(eigenvals)[-1:]]#Return first eigenvector"
   ]
  },
  {
   "cell_type": "code",
   "execution_count": 23,
   "metadata": {},
   "outputs": [],
   "source": [
    "lda_projection = mybLDA_train(Xp, Xn)"
   ]
  },
  {
   "cell_type": "code",
   "execution_count": 24,
   "metadata": {},
   "outputs": [
    {
     "data": {
      "text/plain": [
       "array([[0.52335927],\n",
       "       [0.60130052],\n",
       "       [0.60376548]])"
      ]
     },
     "execution_count": 24,
     "metadata": {},
     "output_type": "execute_result"
    }
   ],
   "source": [
    "lda_projection"
   ]
  },
  {
   "cell_type": "markdown",
   "metadata": {},
   "source": [
    "# Find classification boundary"
   ]
  },
  {
   "cell_type": "markdown",
   "metadata": {},
   "source": [
    "## Project to 1d"
   ]
  },
  {
   "cell_type": "code",
   "execution_count": 25,
   "metadata": {},
   "outputs": [],
   "source": [
    "Xpproj = lda_projection.T @ Xp\n",
    "Xnproj = lda_projection.T @ Xn\n",
    "mu_pproj = lda_projection.T @ mu_p\n",
    "mu_nproj = lda_projection.T @ mu_n"
   ]
  },
  {
   "cell_type": "markdown",
   "metadata": {},
   "source": [
    "## Boundary "
   ]
  },
  {
   "cell_type": "code",
   "execution_count": 26,
   "metadata": {},
   "outputs": [],
   "source": [
    "boundary = ((mu_pproj + mu_nproj)/2)[0][0] #Middle point between means"
   ]
  },
  {
   "cell_type": "code",
   "execution_count": 27,
   "metadata": {},
   "outputs": [
    {
     "data": {
      "text/plain": [
       "6.6051487414306145"
      ]
     },
     "execution_count": 27,
     "metadata": {},
     "output_type": "execute_result"
    }
   ],
   "source": [
    "boundary"
   ]
  },
  {
   "cell_type": "markdown",
   "metadata": {},
   "source": [
    "## Draw decision boundary"
   ]
  },
  {
   "cell_type": "code",
   "execution_count": 28,
   "metadata": {},
   "outputs": [
    {
     "data": {
      "text/plain": [
       "<matplotlib.legend.Legend at 0x7f5e8fe7ed30>"
      ]
     },
     "execution_count": 28,
     "metadata": {},
     "output_type": "execute_result"
    },
    {
     "data": {
      "image/png": "[encoded data removed]",
      "text/plain": [
       "<Figure size 432x288 with 1 Axes>"
      ]
     },
     "metadata": {
      "needs_background": "light"
     },
     "output_type": "display_data"
    }
   ],
   "source": [
    "plt.scatter(Xpproj[0], [0]*8, label=\"pos\")\n",
    "plt.scatter(Xnproj[0], [0]*5, label=\"neg\")\n",
    "plt.scatter(mu_pproj[0], [0], marker=\"^\", label=\"mu_p\", s=100)\n",
    "plt.scatter(mu_nproj[0], [0], marker=\"^\", label=\"mu_n\", s=100)\n",
    "plt.axvline(x=boundary)\n",
    "plt.legend()"
   ]
  },
  {
   "cell_type": "markdown",
   "metadata": {},
   "source": [
    "# mybLDA_classify"
   ]
  },
  {
   "cell_type": "code",
   "execution_count": 29,
   "metadata": {},
   "outputs": [],
   "source": [
    "def mybLDA_classify(X, v):\n",
    "    global boundary\n",
    "    Xproj = (v.T @ X)[0]\n",
    "    preds = np.zeros(Xproj.shape[0])\n",
    "    preds[Xproj < boundary] = 1\n",
    "    preds[Xproj >= boundary] = -1\n",
    "    return preds\n",
    "    "
   ]
  },
  {
   "cell_type": "code",
   "execution_count": 30,
   "metadata": {},
   "outputs": [
    {
     "data": {
      "text/plain": [
       "array([1., 1., 1., 1., 1., 1., 1., 1.])"
      ]
     },
     "execution_count": 30,
     "metadata": {},
     "output_type": "execute_result"
    }
   ],
   "source": [
    "mybLDA_classify(Xp, lda_projection)"
   ]
  },
  {
   "cell_type": "code",
   "execution_count": 31,
   "metadata": {},
   "outputs": [
    {
     "data": {
      "text/plain": [
       "array([-1., -1., -1., -1., -1.])"
      ]
     },
     "execution_count": 31,
     "metadata": {},
     "output_type": "execute_result"
    }
   ],
   "source": [
    "mybLDA_classify(Xn, lda_projection)"
   ]
  },
  {
   "cell_type": "markdown",
   "metadata": {},
   "source": [
    "# Classify new data points"
   ]
  },
  {
   "cell_type": "code",
   "execution_count": 32,
   "metadata": {},
   "outputs": [],
   "source": [
    "X = np.array([[1.3, 2.4, 6.7, 2.2, 3.4, 3.2],\n",
    "              [8.1, 7.6, 2.1, 1.1, 0.5, 7.4],\n",
    "              [-1 , 2.0, 3.0, -2 , 0.0, 2.0]])"
   ]
  },
  {
   "cell_type": "code",
   "execution_count": 33,
   "metadata": {},
   "outputs": [
    {
     "data": {
      "text/plain": [
       "array([ 1., -1.,  1.,  1.,  1., -1.])"
      ]
     },
     "execution_count": 33,
     "metadata": {},
     "output_type": "execute_result"
    }
   ],
   "source": [
    "mybLDA_classify(X, lda_projection)"
   ]
  },
  {
   "cell_type": "code",
   "execution_count": null,
   "metadata": {},
   "outputs": [],
   "source": []
  }
 ],
 "metadata": {
  "kernelspec": {
   "display_name": "Python 3",
   "language": "python",
   "name": "python3"
  },
  "language_info": {
   "codemirror_mode": {
    "name": "ipython",
    "version": 3
   },
   "file_extension": ".py",
   "mimetype": "text/x-python",
   "name": "python",
   "nbconvert_exporter": "python",
   "pygments_lexer": "ipython3",
   "version": "3.8.2"
  }
 },
 "nbformat": 4,
 "nbformat_minor": 4
}
